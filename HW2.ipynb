{
  "nbformat": 4,
  "nbformat_minor": 0,
  "metadata": {
    "colab": {
      "name": "HW2.ipynb",
      "version": "0.3.2",
      "provenance": [],
      "collapsed_sections": []
    },
    "kernelspec": {
      "name": "python3",
      "display_name": "Python 3"
    },
    "accelerator": "GPU"
  },
  "cells": [
    {
      "metadata": {
        "id": "TOfUEs0efKDm",
        "colab_type": "text"
      },
      "cell_type": "markdown",
      "source": [
        "# ANLY 590 HW2\n",
        "### April Chung"
      ]
    },
    {
      "metadata": {
        "id": "cKn3St8gfKDo",
        "colab_type": "text"
      },
      "cell_type": "markdown",
      "source": [
        "## 1 Autoencoder"
      ]
    },
    {
      "metadata": {
        "id": "X3h2An-1fKDq",
        "colab_type": "code",
        "colab": {}
      },
      "cell_type": "code",
      "source": [
        "from keras.layers import Input, Dense, Conv2D, MaxPooling2D, UpSampling2D, Reshape\n",
        "from keras.models import Model\n",
        "from keras import backend as K\n",
        "import numpy as np\n",
        "import keras\n",
        "from keras.layers import Conv2D, MaxPool2D, Flatten\n",
        "from keras.layers import Dense, Dropout\n",
        "import matplotlib.pyplot as plt"
      ],
      "execution_count": 0,
      "outputs": []
    },
    {
      "metadata": {
        "id": "DlcplPdRfKDx",
        "colab_type": "code",
        "colab": {}
      },
      "cell_type": "code",
      "source": [
        "input_img = Input(shape=(28,28, 1))  # adapt this if using `channels_first` image data format\n",
        "\n",
        "x = Conv2D(16, (3, 3), activation='relu', padding='same')(input_img)\n",
        "x = MaxPooling2D((2, 2), padding='same')(x)\n",
        "x = Conv2D(8, (3, 3), activation='relu', padding='same')(x)\n",
        "x = MaxPooling2D((2, 2), padding='same')(x)\n",
        "x = Conv2D(8, (3, 3), activation='relu', padding='same')(x)\n",
        "encoded = MaxPooling2D((2, 2), padding='same')(x)\n",
        "\n",
        "# at this point the representation is (4, 4, 8) i.e. 128-dimensional\n",
        "\n",
        "x = Conv2D(8, (3, 3), activation='relu', padding='same')(encoded)\n",
        "x = UpSampling2D((2, 2))(x)\n",
        "x = Conv2D(8, (3, 3), activation='relu', padding='same')(x)\n",
        "x = UpSampling2D((2, 2))(x)\n",
        "x = Conv2D(16, (3, 3), activation='relu')(x)\n",
        "x = UpSampling2D((2, 2))(x)\n",
        "decoded = Conv2D(1, (3, 3), activation='sigmoid', padding='same')(x)\n",
        "\n",
        "autoencoder = Model(input_img, decoded)\n",
        "autoencoder.compile(optimizer='adadelta', loss='binary_crossentropy')"
      ],
      "execution_count": 0,
      "outputs": []
    },
    {
      "metadata": {
        "id": "d01yN1qmg4Fc",
        "colab_type": "code",
        "outputId": "c29488c4-a680-4204-d899-240a6664f58e",
        "colab": {
          "base_uri": "https://localhost:8080/",
          "height": 153
        }
      },
      "cell_type": "code",
      "source": [
        "!pip install -q -U tensorflow>=1.8.0\n",
        "import tensorflow as tf\n",
        "(x_train, y_train), (x_test, y_test) = tf.keras.datasets.fashion_mnist.load_data()"
      ],
      "execution_count": 34,
      "outputs": [
        {
          "output_type": "stream",
          "text": [
            "Downloading data from https://storage.googleapis.com/tensorflow/tf-keras-datasets/train-labels-idx1-ubyte.gz\n",
            "32768/29515 [=================================] - 0s 0us/step\n",
            "Downloading data from https://storage.googleapis.com/tensorflow/tf-keras-datasets/train-images-idx3-ubyte.gz\n",
            "26427392/26421880 [==============================] - 0s 0us/step\n",
            "Downloading data from https://storage.googleapis.com/tensorflow/tf-keras-datasets/t10k-labels-idx1-ubyte.gz\n",
            "8192/5148 [===============================================] - 0s 0us/step\n",
            "Downloading data from https://storage.googleapis.com/tensorflow/tf-keras-datasets/t10k-images-idx3-ubyte.gz\n",
            "4423680/4422102 [==============================] - 0s 0us/step\n"
          ],
          "name": "stdout"
        }
      ]
    },
    {
      "metadata": {
        "id": "lI4qxlM9fKD7",
        "colab_type": "code",
        "colab": {}
      },
      "cell_type": "code",
      "source": [
        "x_train = x_train.astype('float32') / 255.\n",
        "x_test = x_test.astype('float32') / 255.\n",
        "x_train = np.reshape(x_train, (len(x_train), 28, 28, 1))\n",
        "x_test = np.reshape(x_test, (len(x_test), 28, 28, 1))"
      ],
      "execution_count": 0,
      "outputs": []
    },
    {
      "metadata": {
        "id": "ScSruF4pfKD9",
        "colab_type": "code",
        "outputId": "1594478a-5901-43c5-c7db-f9ddd1e13041",
        "colab": {
          "base_uri": "https://localhost:8080/",
          "height": 221
        }
      },
      "cell_type": "code",
      "source": [
        "autoencoder.fit(x_train, x_train, \n",
        "          epochs=5, \n",
        "          batch_size = 128,\n",
        "          shuffle=True, \n",
        "          validation_data=(x_test, x_test))"
      ],
      "execution_count": 0,
      "outputs": [
        {
          "output_type": "stream",
          "text": [
            "Train on 60000 samples, validate on 10000 samples\n",
            "Epoch 1/5\n",
            "60000/60000 [==============================] - 91s 2ms/step - loss: 0.3269 - val_loss: 0.3197\n",
            "Epoch 2/5\n",
            "60000/60000 [==============================] - 92s 2ms/step - loss: 0.3165 - val_loss: 0.3139\n",
            "Epoch 3/5\n",
            "60000/60000 [==============================] - 91s 2ms/step - loss: 0.3112 - val_loss: 0.3103\n",
            "Epoch 4/5\n",
            "60000/60000 [==============================] - 91s 2ms/step - loss: 0.3081 - val_loss: 0.3072\n",
            "Epoch 5/5\n",
            "60000/60000 [==============================] - 91s 2ms/step - loss: 0.3055 - val_loss: 0.3054\n"
          ],
          "name": "stdout"
        },
        {
          "output_type": "execute_result",
          "data": {
            "text/plain": [
              "<keras.callbacks.History at 0x7feeeae6df98>"
            ]
          },
          "metadata": {
            "tags": []
          },
          "execution_count": 13
        }
      ]
    },
    {
      "metadata": {
        "id": "D2kUVwQpfKED",
        "colab_type": "code",
        "outputId": "af97b469-e8a0-499b-a07c-b25da60a4a02",
        "colab": {
          "base_uri": "https://localhost:8080/",
          "height": 244
        }
      },
      "cell_type": "code",
      "source": [
        "decoded_imgs = autoencoder.predict(x_test)\n",
        "\n",
        "n = 10\n",
        "plt.figure(figsize=(20, 4))\n",
        "for i in range(n):\n",
        "    i = i + 1\n",
        "    # display original\n",
        "    ax = plt.subplot(2, n, i)\n",
        "    plt.imshow(x_test[i].reshape(28, 28))\n",
        "    plt.gray()\n",
        "    ax.get_xaxis().set_visible(False)\n",
        "    ax.get_yaxis().set_visible(False)\n",
        "\n",
        "    # display reconstruction\n",
        "    ax = plt.subplot(2, n, i + n)\n",
        "    plt.imshow(decoded_imgs[i].reshape(28, 28))\n",
        "    plt.gray()\n",
        "    ax.get_xaxis().set_visible(False)\n",
        "    ax.get_yaxis().set_visible(False)\n",
        "plt.show()\n"
      ],
      "execution_count": 0,
      "outputs": [
        {
          "output_type": "display_data",
          "data": {
            "image/png": "[encoded data removed]",
            "text/plain": [
              "<matplotlib.figure.Figure at 0x7feee6c77208>"
            ]
          },
          "metadata": {
            "tags": []
          }
        }
      ]
    },
    {
      "metadata": {
        "collapsed": true,
        "id": "tb-pTDN9fKEH",
        "colab_type": "text"
      },
      "cell_type": "markdown",
      "source": [
        "## 2 Image Classification"
      ]
    },
    {
      "metadata": {
        "id": "PHAX_5q7fKEJ",
        "colab_type": "text"
      },
      "cell_type": "markdown",
      "source": [
        "### 2.1 Deep CNN"
      ]
    },
    {
      "metadata": {
        "id": "rCqvs3NPhP8P",
        "colab_type": "text"
      },
      "cell_type": "markdown",
      "source": [
        "Using similar architecture to the CNN example from here: https://github.com/kjaisingh/fashion-mnist-cnn/blob/master/fashion-cnn.py, I built a deep convolutional neural network with 4 convolutional layers. The model is built with 32 kernels with dimensions 3 by 3 for the first two layers. Then I reduced the layer by using max pooling for dimension 2 by 2. We then apply regularization with dropout, and then ran through the convolutional layers with 64 kernels with dimensions 3 by 3. \n",
        "The strides and padding for the the convolutional layer are defautled to 1 and '*valid*', respectively. "
      ]
    },
    {
      "metadata": {
        "id": "KGxlcYANfKEJ",
        "colab_type": "code",
        "colab": {}
      },
      "cell_type": "code",
      "source": [
        "from keras.models import Sequential\n",
        "from keras.layers import Dense, Activation\n",
        "from keras.layers import Input, Dense, Conv2D, MaxPooling2D, UpSampling2D, Reshape\n",
        "model = Sequential()\n",
        "model.add(Conv2D(32,kernel_size = (3,3), activation = 'relu', input_shape = (28,28,1)))\n",
        "model.add(Conv2D(32,kernel_size = (3,3), activation = 'relu'))\n",
        "model.add(MaxPooling2D(pool_size = (2,2)))\n",
        "model.add(Dropout(0.25))\n",
        "\n",
        "model.add(Conv2D(64, (3,3), activation = 'relu'))\n",
        "model.add(Conv2D(64, (3,3), activation = 'relu'))\n",
        "model.add(MaxPooling2D(pool_size = (2,2)))\n",
        "model.add(Dropout(0.25))\n",
        "model.add(Flatten()) #flatten in order to run ANN\n",
        "model.add(Dense(128, activation = 'relu')) #using 128 parameters\n",
        "model.add(Dropout(0.25))\n",
        "model.add(Dense(10, activation = 'softmax'))#output 10 results to classify 10 classes\n",
        "\n",
        "model.compile(optimizer='adadelta',\n",
        "              loss='categorical_crossentropy',\n",
        "              metrics=['accuracy'])"
      ],
      "execution_count": 0,
      "outputs": []
    },
    {
      "metadata": {
        "id": "QUbdawahfKEM",
        "colab_type": "code",
        "colab": {}
      },
      "cell_type": "code",
      "source": [
        "y_train = keras.utils.to_categorical(y_train, num_classes=10)\n",
        "y_test = keras.utils.to_categorical(y_test, num_classes=10)"
      ],
      "execution_count": 0,
      "outputs": []
    },
    {
      "metadata": {
        "id": "mxuCP59ofKEP",
        "colab_type": "code",
        "outputId": "77b2b98f-b206-4eaf-8c26-761766d6b5c9",
        "colab": {
          "base_uri": "https://localhost:8080/",
          "height": 204
        }
      },
      "cell_type": "code",
      "source": [
        "history_dCNN = model.fit(x_train, y_train, \n",
        "          epochs=5, \n",
        "          batch_size=32,\n",
        "          validation_data = (x_test, y_test))"
      ],
      "execution_count": 56,
      "outputs": [
        {
          "output_type": "stream",
          "text": [
            "Train on 60000 samples, validate on 10000 samples\n",
            "Epoch 1/5\n",
            "60000/60000 [==============================] - 27s 455us/step - loss: 0.2403 - acc: 0.9141 - val_loss: 0.2398 - val_acc: 0.9113\n",
            "Epoch 2/5\n",
            "60000/60000 [==============================] - 28s 459us/step - loss: 0.2320 - acc: 0.9173 - val_loss: 0.2427 - val_acc: 0.9122\n",
            "Epoch 3/5\n",
            "60000/60000 [==============================] - 27s 456us/step - loss: 0.2255 - acc: 0.9193 - val_loss: 0.2386 - val_acc: 0.9149\n",
            "Epoch 4/5\n",
            "60000/60000 [==============================] - 28s 468us/step - loss: 0.2209 - acc: 0.9216 - val_loss: 0.2305 - val_acc: 0.9180\n",
            "Epoch 5/5\n",
            "60000/60000 [==============================] - 28s 463us/step - loss: 0.2166 - acc: 0.9225 - val_loss: 0.2607 - val_acc: 0.9093\n"
          ],
          "name": "stdout"
        }
      ]
    },
    {
      "metadata": {
        "id": "Xjqt5tOHfKEV",
        "colab_type": "code",
        "outputId": "72fd1c8f-5e3c-42f2-9519-4cb0c1dff70d",
        "colab": {
          "base_uri": "https://localhost:8080/",
          "height": 85
        }
      },
      "cell_type": "code",
      "source": [
        "print(model.evaluate(x_test, y_test))\n",
        "print(model.evaluate(x_train, y_train))"
      ],
      "execution_count": 58,
      "outputs": [
        {
          "output_type": "stream",
          "text": [
            "10000/10000 [==============================] - 1s 122us/step\n",
            "[0.260681129488349, 0.9093]\n",
            "60000/60000 [==============================] - 7s 120us/step\n",
            "[0.18437235265051324, 0.9318]\n"
          ],
          "name": "stdout"
        }
      ]
    },
    {
      "metadata": {
        "id": "I2WcRpFftUox",
        "colab_type": "code",
        "colab": {
          "base_uri": "https://localhost:8080/",
          "height": 364
        },
        "outputId": "67818856-3d39-43e2-fa06-c517c5a029d0"
      },
      "cell_type": "code",
      "source": [
        "plt.plot(history_dCNN.history['loss'])\n",
        "plt.plot(history_dCNN.history['val_loss'])\n",
        "plt.legend(['train', 'test'], loc='lower left')"
      ],
      "execution_count": 59,
      "outputs": [
        {
          "output_type": "execute_result",
          "data": {
            "text/plain": [
              "<matplotlib.legend.Legend at 0x7f9522406940>"
            ]
          },
          "metadata": {
            "tags": []
          },
          "execution_count": 59
        },
        {
          "output_type": "display_data",
          "data": {
            "image/png": "[encoded data removed]",
            "text/plain": [
              "<matplotlib.figure.Figure at 0x7f95223b3668>"
            ]
          },
          "metadata": {
            "tags": []
          }
        }
      ]
    },
    {
      "metadata": {
        "id": "hyvrtAKOtakx",
        "colab_type": "text"
      },
      "cell_type": "markdown",
      "source": [
        "The result shows there is overfitting in the model as the loss value for test increases after the 3 epoch. Otherwise, the accuracy for both testing and training dataset were pretty high with a little over 90%."
      ]
    },
    {
      "metadata": {
        "id": "3bb3gpKXfKEZ",
        "colab_type": "text"
      },
      "cell_type": "markdown",
      "source": [
        "### 2.2 Transfer Learning"
      ]
    },
    {
      "metadata": {
        "id": "RDp9Ox7QfKEZ",
        "colab_type": "code",
        "colab": {}
      },
      "cell_type": "code",
      "source": [
        "from keras.applications import VGG16\n",
        "import skimage\n",
        "from skimage.transform import resize\n",
        "from tqdm import tqdm\n",
        "from keras.models import Sequential\n",
        "\n",
        "from keras import backend as K\n",
        "from keras.layers import Lambda, Input\n",
        "from keras.models import Model\n",
        "import cv2"
      ],
      "execution_count": 0,
      "outputs": []
    },
    {
      "metadata": {
        "id": "Jkt0RCGaMsT7",
        "colab_type": "code",
        "colab": {}
      },
      "cell_type": "code",
      "source": [
        "x_train1 = np.asarray([cv2.resize(i, (32,32)) for i in x_train])\n",
        "x_test1 = np.asarray([cv2.resize(i, (32,32)) for i in x_test])"
      ],
      "execution_count": 0,
      "outputs": []
    },
    {
      "metadata": {
        "id": "TfwsMRjqfKEu",
        "colab_type": "code",
        "colab": {}
      },
      "cell_type": "code",
      "source": [
        "x_train1 = x_train1.reshape(x_train1.shape[0], 32, 32,1)\n",
        "x_test1 = x_test1.reshape(x_test1.shape[0], 32, 32, 1)"
      ],
      "execution_count": 0,
      "outputs": []
    },
    {
      "metadata": {
        "id": "SiYgoj4XOk6Q",
        "colab_type": "code",
        "colab": {}
      },
      "cell_type": "code",
      "source": [
        "x_train1 = np.asarray([np.squeeze(np.stack((i, )*3, axis = -1)) for i in x_train1])\n",
        "x_test1 = np.asarray([np.squeeze(np.stack((i, )*3, axis = -1)) for i in x_test1])"
      ],
      "execution_count": 0,
      "outputs": []
    },
    {
      "metadata": {
        "id": "QkgVKdzRfKEx",
        "colab_type": "code",
        "outputId": "6afc7736-de30-4332-9eb2-cb4c5c397682",
        "colab": {
          "base_uri": "https://localhost:8080/",
          "height": 51
        }
      },
      "cell_type": "code",
      "source": [
        "conv_base = VGG16(weights = \"imagenet\", include_top=False, input_shape = (32,32,3))"
      ],
      "execution_count": 44,
      "outputs": [
        {
          "output_type": "stream",
          "text": [
            "Downloading data from https://github.com/fchollet/deep-learning-models/releases/download/v0.1/vgg16_weights_tf_dim_ordering_tf_kernels_notop.h5\n",
            "58892288/58889256 [==============================] - 2s 0us/step\n"
          ],
          "name": "stdout"
        }
      ]
    },
    {
      "metadata": {
        "id": "LmkrDgrWPJmq",
        "colab_type": "code",
        "colab": {}
      },
      "cell_type": "code",
      "source": [
        "T_model = Sequential()\n",
        "T_model.add(conv_base)\n",
        "T_model.add(Flatten())\n",
        "T_model.add(Dense(256, activation=\"relu\"))\n",
        "T_model.add(Dense(10, activation=\"softmax\"))"
      ],
      "execution_count": 0,
      "outputs": []
    },
    {
      "metadata": {
        "id": "yzg96rD1PajZ",
        "colab_type": "code",
        "outputId": "4882bbab-4085-4c6c-99d8-8fb2ace27b2a",
        "colab": {
          "base_uri": "https://localhost:8080/",
          "height": 527
        }
      },
      "cell_type": "code",
      "source": [
        "T_model.trainable_weights"
      ],
      "execution_count": 46,
      "outputs": [
        {
          "output_type": "execute_result",
          "data": {
            "text/plain": [
              "[<tf.Variable 'block1_conv1/kernel:0' shape=(3, 3, 3, 64) dtype=float32_ref>,\n",
              " <tf.Variable 'block1_conv1/bias:0' shape=(64,) dtype=float32_ref>,\n",
              " <tf.Variable 'block1_conv2/kernel:0' shape=(3, 3, 64, 64) dtype=float32_ref>,\n",
              " <tf.Variable 'block1_conv2/bias:0' shape=(64,) dtype=float32_ref>,\n",
              " <tf.Variable 'block2_conv1/kernel:0' shape=(3, 3, 64, 128) dtype=float32_ref>,\n",
              " <tf.Variable 'block2_conv1/bias:0' shape=(128,) dtype=float32_ref>,\n",
              " <tf.Variable 'block2_conv2/kernel:0' shape=(3, 3, 128, 128) dtype=float32_ref>,\n",
              " <tf.Variable 'block2_conv2/bias:0' shape=(128,) dtype=float32_ref>,\n",
              " <tf.Variable 'block3_conv1/kernel:0' shape=(3, 3, 128, 256) dtype=float32_ref>,\n",
              " <tf.Variable 'block3_conv1/bias:0' shape=(256,) dtype=float32_ref>,\n",
              " <tf.Variable 'block3_conv2/kernel:0' shape=(3, 3, 256, 256) dtype=float32_ref>,\n",
              " <tf.Variable 'block3_conv2/bias:0' shape=(256,) dtype=float32_ref>,\n",
              " <tf.Variable 'block3_conv3/kernel:0' shape=(3, 3, 256, 256) dtype=float32_ref>,\n",
              " <tf.Variable 'block3_conv3/bias:0' shape=(256,) dtype=float32_ref>,\n",
              " <tf.Variable 'block4_conv1/kernel:0' shape=(3, 3, 256, 512) dtype=float32_ref>,\n",
              " <tf.Variable 'block4_conv1/bias:0' shape=(512,) dtype=float32_ref>,\n",
              " <tf.Variable 'block4_conv2/kernel:0' shape=(3, 3, 512, 512) dtype=float32_ref>,\n",
              " <tf.Variable 'block4_conv2/bias:0' shape=(512,) dtype=float32_ref>,\n",
              " <tf.Variable 'block4_conv3/kernel:0' shape=(3, 3, 512, 512) dtype=float32_ref>,\n",
              " <tf.Variable 'block4_conv3/bias:0' shape=(512,) dtype=float32_ref>,\n",
              " <tf.Variable 'block5_conv1/kernel:0' shape=(3, 3, 512, 512) dtype=float32_ref>,\n",
              " <tf.Variable 'block5_conv1/bias:0' shape=(512,) dtype=float32_ref>,\n",
              " <tf.Variable 'block5_conv2/kernel:0' shape=(3, 3, 512, 512) dtype=float32_ref>,\n",
              " <tf.Variable 'block5_conv2/bias:0' shape=(512,) dtype=float32_ref>,\n",
              " <tf.Variable 'block5_conv3/kernel:0' shape=(3, 3, 512, 512) dtype=float32_ref>,\n",
              " <tf.Variable 'block5_conv3/bias:0' shape=(512,) dtype=float32_ref>,\n",
              " <tf.Variable 'dense_5/kernel:0' shape=(512, 256) dtype=float32_ref>,\n",
              " <tf.Variable 'dense_5/bias:0' shape=(256,) dtype=float32_ref>,\n",
              " <tf.Variable 'dense_6/kernel:0' shape=(256, 10) dtype=float32_ref>,\n",
              " <tf.Variable 'dense_6/bias:0' shape=(10,) dtype=float32_ref>]"
            ]
          },
          "metadata": {
            "tags": []
          },
          "execution_count": 46
        }
      ]
    },
    {
      "metadata": {
        "id": "G-iAr3gLfKE3",
        "colab_type": "code",
        "colab": {}
      },
      "cell_type": "code",
      "source": [
        "conv_base.trainable = False"
      ],
      "execution_count": 0,
      "outputs": []
    },
    {
      "metadata": {
        "id": "ze4dyS8hPUPv",
        "colab_type": "code",
        "outputId": "7f3d66e0-5628-48b8-9864-7d73603202e6",
        "colab": {
          "base_uri": "https://localhost:8080/",
          "height": 85
        }
      },
      "cell_type": "code",
      "source": [
        "T_model.trainable_weights"
      ],
      "execution_count": 48,
      "outputs": [
        {
          "output_type": "execute_result",
          "data": {
            "text/plain": [
              "[<tf.Variable 'dense_5/kernel:0' shape=(512, 256) dtype=float32_ref>,\n",
              " <tf.Variable 'dense_5/bias:0' shape=(256,) dtype=float32_ref>,\n",
              " <tf.Variable 'dense_6/kernel:0' shape=(256, 10) dtype=float32_ref>,\n",
              " <tf.Variable 'dense_6/bias:0' shape=(10,) dtype=float32_ref>]"
            ]
          },
          "metadata": {
            "tags": []
          },
          "execution_count": 48
        }
      ]
    },
    {
      "metadata": {
        "id": "LMgy0mzgPXBW",
        "colab_type": "code",
        "colab": {}
      },
      "cell_type": "code",
      "source": [
        "T_model.compile(loss='categorical_crossentropy', optimizer='adam',metrics=[\"accuracy\"])"
      ],
      "execution_count": 0,
      "outputs": []
    },
    {
      "metadata": {
        "id": "p6Z7-uNIP_2T",
        "colab_type": "code",
        "outputId": "aa567cf9-a63e-472d-a9ed-31f717865484",
        "colab": {
          "base_uri": "https://localhost:8080/",
          "height": 374
        }
      },
      "cell_type": "code",
      "source": [
        "history = T_model.fit(x_train1,y_train, \n",
        "                    epochs=10, \n",
        "                    batch_size=150,\n",
        "                    verbose = 1,\n",
        "                    validation_data = (x_test1, y_test))"
      ],
      "execution_count": 50,
      "outputs": [
        {
          "output_type": "stream",
          "text": [
            "Train on 60000 samples, validate on 10000 samples\n",
            "Epoch 1/10\n",
            "60000/60000 [==============================] - 25s 423us/step - loss: 0.5989 - acc: 0.7944 - val_loss: 0.4568 - val_acc: 0.8373\n",
            "Epoch 2/10\n",
            "60000/60000 [==============================] - 24s 393us/step - loss: 0.4240 - acc: 0.8458 - val_loss: 0.4341 - val_acc: 0.8430\n",
            "Epoch 3/10\n",
            "60000/60000 [==============================] - 24s 393us/step - loss: 0.3898 - acc: 0.8578 - val_loss: 0.4068 - val_acc: 0.8520\n",
            "Epoch 4/10\n",
            "60000/60000 [==============================] - 24s 395us/step - loss: 0.3689 - acc: 0.8650 - val_loss: 0.4053 - val_acc: 0.8566\n",
            "Epoch 5/10\n",
            "60000/60000 [==============================] - 24s 393us/step - loss: 0.3528 - acc: 0.8693 - val_loss: 0.3891 - val_acc: 0.8596\n",
            "Epoch 6/10\n",
            "60000/60000 [==============================] - 23s 385us/step - loss: 0.3383 - acc: 0.8761 - val_loss: 0.3856 - val_acc: 0.8633\n",
            "Epoch 7/10\n",
            "60000/60000 [==============================] - 23s 384us/step - loss: 0.3265 - acc: 0.8791 - val_loss: 0.3806 - val_acc: 0.8611\n",
            "Epoch 8/10\n",
            "60000/60000 [==============================] - 23s 381us/step - loss: 0.3144 - acc: 0.8846 - val_loss: 0.3717 - val_acc: 0.8685\n",
            "Epoch 9/10\n",
            "60000/60000 [==============================] - 23s 383us/step - loss: 0.3071 - acc: 0.8868 - val_loss: 0.3610 - val_acc: 0.8728\n",
            "Epoch 10/10\n",
            "60000/60000 [==============================] - 23s 383us/step - loss: 0.2969 - acc: 0.8904 - val_loss: 0.3688 - val_acc: 0.8703\n"
          ],
          "name": "stdout"
        }
      ]
    },
    {
      "metadata": {
        "id": "eH0kH46Bmk6R",
        "colab_type": "code",
        "outputId": "28686ed0-079d-47ac-886f-90b9c60719d2",
        "colab": {
          "base_uri": "https://localhost:8080/",
          "height": 85
        }
      },
      "cell_type": "code",
      "source": [
        "print(T_model.evaluate(x_test1, y_test))\n",
        "print(T_model.evaluate(x_train1, y_train))"
      ],
      "execution_count": 61,
      "outputs": [
        {
          "output_type": "stream",
          "text": [
            "10000/10000 [==============================] - 6s 562us/step\n",
            "[0.3688026197910309, 0.8703]\n",
            "60000/60000 [==============================] - 33s 546us/step\n",
            "[0.28585817814270653, 0.8950666666666667]\n"
          ],
          "name": "stdout"
        }
      ]
    },
    {
      "metadata": {
        "id": "iyGukRehoPEe",
        "colab_type": "code",
        "outputId": "6d76b0f0-bc66-4f12-ba90-da6f327406e8",
        "colab": {
          "base_uri": "https://localhost:8080/",
          "height": 364
        }
      },
      "cell_type": "code",
      "source": [
        "plt.plot(history.history['loss'])\n",
        "plt.plot(history.history['val_loss'])\n",
        "plt.legend(['train', 'test'], loc='lower left')"
      ],
      "execution_count": 52,
      "outputs": [
        {
          "output_type": "execute_result",
          "data": {
            "text/plain": [
              "<matplotlib.legend.Legend at 0x7f9522441668>"
            ]
          },
          "metadata": {
            "tags": []
          },
          "execution_count": 52
        },
        {
          "output_type": "display_data",
          "data": {
            "image/png": "[encoded data removed]",
            "text/plain": [
              "<matplotlib.figure.Figure at 0x7f95224667b8>"
            ]
          },
          "metadata": {
            "tags": []
          }
        }
      ]
    },
    {
      "metadata": {
        "id": "QcBWXqbIwhYL",
        "colab_type": "text"
      },
      "cell_type": "markdown",
      "source": [
        "Using VGG16 as the base model for transfer learning, the accuracy only went up to a little shy of 90% for both the testing and training dataset. After 10 epochs, the loss reached the lowest at 0.368 for testing but it wasn't much lower than 0.285 for training."
      ]
    },
    {
      "metadata": {
        "id": "eb8NU67MfKFm",
        "colab_type": "text"
      },
      "cell_type": "markdown",
      "source": [
        "## Text Classification"
      ]
    },
    {
      "metadata": {
        "id": "AegOcLjLvcbg",
        "colab_type": "code",
        "colab": {}
      },
      "cell_type": "code",
      "source": [
        "from keras.preprocessing.text import Tokenizer\n",
        "import pandas as pd\n",
        "import numpy as np\n",
        "\n",
        "from keras.models import Sequential\n",
        "from keras.layers import Dense, Embedding, SimpleRNN, Dropout, Input, GlobalMaxPooling1D\n",
        "from keras.optimizers import RMSprop"
      ],
      "execution_count": 0,
      "outputs": []
    },
    {
      "metadata": {
        "id": "JCFtqv2vfKFn",
        "colab_type": "code",
        "colab": {}
      },
      "cell_type": "code",
      "source": [
        "from urllib.request import urlopen\n",
        "\n",
        "benign_urls =urlopen('https://s3.amazonaws.com/anly-590/url-classification/benign-urls.txt').read().decode(\"utf-8\") \n",
        "malicious_urls =urlopen('https://s3.amazonaws.com/anly-590/url-classification/malicious-urls.txt').read().decode(\"utf-8\") "
      ],
      "execution_count": 0,
      "outputs": []
    },
    {
      "metadata": {
        "id": "A7Y36HsbtTqc",
        "colab_type": "code",
        "colab": {}
      },
      "cell_type": "code",
      "source": [
        "benign_urls = benign_urls.split(\"\\n\")\n",
        "malicious_urls = malicious_urls.split(\"\\n\")"
      ],
      "execution_count": 0,
      "outputs": []
    },
    {
      "metadata": {
        "id": "0qWbPEipEbTv",
        "colab_type": "text"
      },
      "cell_type": "markdown",
      "source": [
        "Benign urls are 1 and malicious urls are 0"
      ]
    },
    {
      "metadata": {
        "id": "tMvSBouHvlfT",
        "colab_type": "code",
        "colab": {}
      },
      "cell_type": "code",
      "source": [
        "b_urls = pd.DataFrame(benign_urls)\n",
        "b_urls['benign'] = 1"
      ],
      "execution_count": 0,
      "outputs": []
    },
    {
      "metadata": {
        "id": "FTm3YTy3vw_E",
        "colab_type": "code",
        "colab": {}
      },
      "cell_type": "code",
      "source": [
        "m_urls = pd.DataFrame(malicious_urls)\n",
        "m_urls['benign'] = 0"
      ],
      "execution_count": 0,
      "outputs": []
    },
    {
      "metadata": {
        "id": "xLB3tZtzv4RM",
        "colab_type": "code",
        "colab": {}
      },
      "cell_type": "code",
      "source": [
        "urls = pd.concat([b_urls, m_urls])\n",
        "urls.columns = ['urls', 'benign']"
      ],
      "execution_count": 0,
      "outputs": []
    },
    {
      "metadata": {
        "id": "04tIi4dEluW1",
        "colab_type": "code",
        "colab": {}
      },
      "cell_type": "code",
      "source": [
        "#list(urls['urls'])\n",
        "tokenizer = Tokenizer(num_words = 100000)\n",
        "# Building the word index\n",
        "tokenizer.fit_on_texts(urls['urls'])\n",
        "sequences = tokenizer.texts_to_sequences(urls['urls'])\n",
        "urls['urls_tokenized'] = sequences"
      ],
      "execution_count": 0,
      "outputs": []
    },
    {
      "metadata": {
        "id": "Yt2yI76OmmZp",
        "colab_type": "code",
        "colab": {}
      },
      "cell_type": "code",
      "source": [
        "import numpy as np\n",
        "from sklearn.model_selection import train_test_split\n",
        "X_train, X_test, y_train, y_test = train_test_split(urls['urls_tokenized'], urls['benign'], test_size=0.33, random_state=42)"
      ],
      "execution_count": 0,
      "outputs": []
    },
    {
      "metadata": {
        "id": "Vtnk4Q6Yp6jN",
        "colab_type": "code",
        "colab": {}
      },
      "cell_type": "code",
      "source": [
        "from keras.preprocessing import sequence\n",
        "maxlen = max(urls['urls'].str.len())\n",
        "X_train = sequence.pad_sequences(X_train, maxlen = maxlen)\n",
        "X_test = sequence.pad_sequences(X_test, maxlen=maxlen)"
      ],
      "execution_count": 0,
      "outputs": []
    },
    {
      "metadata": {
        "id": "Ww78-tgJpwWA",
        "colab_type": "code",
        "colab": {}
      },
      "cell_type": "code",
      "source": [
        "from sklearn.utils import class_weight\n",
        "class_weights = class_weight.compute_class_weight('balanced',\n",
        "                                                 np.unique(y_train),\n",
        "                                                 y_train)"
      ],
      "execution_count": 0,
      "outputs": []
    },
    {
      "metadata": {
        "id": "balwujdBreYp",
        "colab_type": "code",
        "outputId": "c7b9a883-2953-4e78-fa6f-82e2a4389c22",
        "colab": {
          "base_uri": "https://localhost:8080/",
          "height": 34
        }
      },
      "cell_type": "code",
      "source": [
        "class_weights"
      ],
      "execution_count": 12,
      "outputs": [
        {
          "output_type": "execute_result",
          "data": {
            "text/plain": [
              "array([26.05484988,  0.50978288])"
            ]
          },
          "metadata": {
            "tags": []
          },
          "execution_count": 12
        }
      ]
    },
    {
      "metadata": {
        "id": "DbxJ1WSRuu5v",
        "colab_type": "text"
      },
      "cell_type": "markdown",
      "source": [
        "### 3.1 RNN"
      ]
    },
    {
      "metadata": {
        "id": "Eaxt-8YytmFg",
        "colab_type": "code",
        "colab": {}
      },
      "cell_type": "code",
      "source": [
        "max_features = 100000\n",
        "model = Sequential()\n",
        "model.add(Embedding(max_features, 64))\n",
        "model.add(Dropout(.25))\n",
        "model.add(SimpleRNN(128))\n",
        "model.add(Dense(1, activation ='sigmoid'))"
      ],
      "execution_count": 0,
      "outputs": []
    },
    {
      "metadata": {
        "id": "A_SNvvaUoXoE",
        "colab_type": "code",
        "colab": {}
      },
      "cell_type": "code",
      "source": [
        "model.compile(optimizer = 'rmsprop',\n",
        "             loss = 'binary_crossentropy',\n",
        "             metrics=['acc'])"
      ],
      "execution_count": 0,
      "outputs": []
    },
    {
      "metadata": {
        "id": "Q8EkK1iRohjt",
        "colab_type": "code",
        "outputId": "01c19ecd-04d1-439e-8cf6-ad58ec037344",
        "colab": {
          "base_uri": "https://localhost:8080/",
          "height": 204
        }
      },
      "cell_type": "code",
      "source": [
        "history_rnn = model.fit(X_train, y_train, \n",
        "                    epochs = 5, \n",
        "                    batch_size = 64, \n",
        "                    validation_data = (X_test,y_test),\n",
        "                    verbose=1,\n",
        "                   class_weight=class_weights)"
      ],
      "execution_count": 15,
      "outputs": [
        {
          "output_type": "stream",
          "text": [
            "Train on 45127 samples, validate on 22227 samples\n",
            "Epoch 1/5\n",
            "45127/45127 [==============================] - 53s 1ms/step - loss: 0.0425 - acc: 0.9838 - val_loss: 0.0209 - val_acc: 0.9896\n",
            "Epoch 2/5\n",
            "45127/45127 [==============================] - 51s 1ms/step - loss: 0.0213 - acc: 0.9900 - val_loss: 0.0193 - val_acc: 0.9911\n",
            "Epoch 3/5\n",
            "45127/45127 [==============================] - 51s 1ms/step - loss: 0.0157 - acc: 0.9932 - val_loss: 0.0192 - val_acc: 0.9920\n",
            "Epoch 4/5\n",
            "45127/45127 [==============================] - 51s 1ms/step - loss: 0.0116 - acc: 0.9961 - val_loss: 0.0198 - val_acc: 0.9909\n",
            "Epoch 5/5\n",
            "45127/45127 [==============================] - 50s 1ms/step - loss: 0.0067 - acc: 0.9981 - val_loss: 0.0218 - val_acc: 0.9923\n"
          ],
          "name": "stdout"
        }
      ]
    },
    {
      "metadata": {
        "id": "E1PGyhXvopHi",
        "colab_type": "code",
        "outputId": "69621111-43de-4723-8773-1617740003a6",
        "colab": {
          "base_uri": "https://localhost:8080/",
          "height": 51
        }
      },
      "cell_type": "code",
      "source": [
        "model.evaluate(X_test, y_test)"
      ],
      "execution_count": 16,
      "outputs": [
        {
          "output_type": "stream",
          "text": [
            "22227/22227 [==============================] - 9s 425us/step\n"
          ],
          "name": "stdout"
        },
        {
          "output_type": "execute_result",
          "data": {
            "text/plain": [
              "[0.021793715414696786, 0.9923066540693751]"
            ]
          },
          "metadata": {
            "tags": []
          },
          "execution_count": 16
        }
      ]
    },
    {
      "metadata": {
        "id": "6B6wjIGEsmbU",
        "colab_type": "code",
        "outputId": "499306ff-fd4a-493a-cd5a-59b0885b9a9f",
        "colab": {
          "base_uri": "https://localhost:8080/",
          "height": 364
        }
      },
      "cell_type": "code",
      "source": [
        "import matplotlib.pyplot as plt\n",
        "\n",
        "plt.plot(history_rnn.history['loss'])\n",
        "plt.plot(history_rnn.history['val_loss'])"
      ],
      "execution_count": 17,
      "outputs": [
        {
          "output_type": "execute_result",
          "data": {
            "text/plain": [
              "[<matplotlib.lines.Line2D at 0x7f952418f780>]"
            ]
          },
          "metadata": {
            "tags": []
          },
          "execution_count": 17
        },
        {
          "output_type": "display_data",
          "data": {
            "image/png": "[encoded data removed]",
            "text/plain": [
              "<matplotlib.figure.Figure at 0x7f952a210940>"
            ]
          },
          "metadata": {
            "tags": []
          }
        }
      ]
    },
    {
      "metadata": {
        "id": "g5_rUHW2megf",
        "colab_type": "code",
        "colab": {}
      },
      "cell_type": "code",
      "source": [
        "from sklearn.metrics import confusion_matrix\n",
        "y_pred = model.predict(X_test).ravel()\n",
        "y_pred2 = (y_pred > 0.5)"
      ],
      "execution_count": 0,
      "outputs": []
    },
    {
      "metadata": {
        "id": "qwnNmBUeEBQ2",
        "colab_type": "code",
        "colab": {
          "base_uri": "https://localhost:8080/",
          "height": 142
        },
        "outputId": "0286ea66-0706-4bcd-ae37-2eed275c1f13"
      },
      "cell_type": "code",
      "source": [
        "pd.crosstab(y_test, y_pred2, rownames=['Actual'], colnames=['Predicted'])"
      ],
      "execution_count": 19,
      "outputs": [
        {
          "output_type": "execute_result",
          "data": {
            "text/html": [
              "<div>\n",
              "<style scoped>\n",
              "    .dataframe tbody tr th:only-of-type {\n",
              "        vertical-align: middle;\n",
              "    }\n",
              "\n",
              "    .dataframe tbody tr th {\n",
              "        vertical-align: top;\n",
              "    }\n",
              "\n",
              "    .dataframe thead th {\n",
              "        text-align: right;\n",
              "    }\n",
              "</style>\n",
              "<table border=\"1\" class=\"dataframe\">\n",
              "  <thead>\n",
              "    <tr style=\"text-align: right;\">\n",
              "      <th>Predicted</th>\n",
              "      <th>False</th>\n",
              "      <th>True</th>\n",
              "    </tr>\n",
              "    <tr>\n",
              "      <th>Actual</th>\n",
              "      <th></th>\n",
              "      <th></th>\n",
              "    </tr>\n",
              "  </thead>\n",
              "  <tbody>\n",
              "    <tr>\n",
              "      <th>0</th>\n",
              "      <td>401</td>\n",
              "      <td>30</td>\n",
              "    </tr>\n",
              "    <tr>\n",
              "      <th>1</th>\n",
              "      <td>141</td>\n",
              "      <td>21655</td>\n",
              "    </tr>\n",
              "  </tbody>\n",
              "</table>\n",
              "</div>"
            ],
            "text/plain": [
              "Predicted  False  True \n",
              "Actual                 \n",
              "0            401     30\n",
              "1            141  21655"
            ]
          },
          "metadata": {
            "tags": []
          },
          "execution_count": 19
        }
      ]
    },
    {
      "metadata": {
        "id": "lW8mUio8sBJV",
        "colab_type": "text"
      },
      "cell_type": "markdown",
      "source": [
        "### 3.2 CNN"
      ]
    },
    {
      "metadata": {
        "id": "A-jvBEYQQj2h",
        "colab_type": "code",
        "colab": {}
      },
      "cell_type": "code",
      "source": [
        "from keras.layers import Dense, Activation, Flatten, Conv1D, Dropout, MaxPooling1D\n",
        "\n",
        "model_conv = Sequential()\n",
        "model_conv.add(Embedding(max_features, output_dim = 30, input_length=86))\n",
        "model_conv.add(Dropout(0.2))\n",
        "model_conv.add(Conv1D(128, 5, activation='relu'))\n",
        "model_conv.add(GlobalMaxPooling1D())\n",
        "model_conv.add(Dropout(0.2))\n",
        "model_conv.add(Dense(1, activation='sigmoid'))"
      ],
      "execution_count": 0,
      "outputs": []
    },
    {
      "metadata": {
        "id": "9EV2jy_gRdCk",
        "colab_type": "code",
        "colab": {}
      },
      "cell_type": "code",
      "source": [
        "model_conv.compile(loss='binary_crossentropy', optimizer='adam',    metrics=['accuracy'])"
      ],
      "execution_count": 0,
      "outputs": []
    },
    {
      "metadata": {
        "id": "EIdIHQCBQrRC",
        "colab_type": "code",
        "colab": {
          "base_uri": "https://localhost:8080/",
          "height": 204
        },
        "outputId": "ee3ead92-865f-4290-b627-d8fc0fe98dc0"
      },
      "cell_type": "code",
      "source": [
        "history = model_conv.fit(X_train, y_train,\n",
        "          epochs=5,\n",
        "          batch_size=60,\n",
        "          verbose = 1,\n",
        "          validation_data = (X_test, y_test),\n",
        "          class_weight = class_weights)"
      ],
      "execution_count": 78,
      "outputs": [
        {
          "output_type": "stream",
          "text": [
            "Train on 45127 samples, validate on 22227 samples\n",
            "Epoch 1/5\n",
            "45127/45127 [==============================] - 12s 259us/step - loss: 0.0738 - acc: 0.9802 - val_loss: 0.0225 - val_acc: 0.9806\n",
            "Epoch 2/5\n",
            "45127/45127 [==============================] - 11s 238us/step - loss: 0.0166 - acc: 0.9928 - val_loss: 0.0166 - val_acc: 0.9932\n",
            "Epoch 3/5\n",
            "45127/45127 [==============================] - 11s 249us/step - loss: 0.0049 - acc: 0.9991 - val_loss: 0.0171 - val_acc: 0.9920\n",
            "Epoch 4/5\n",
            "45127/45127 [==============================] - 11s 250us/step - loss: 0.0013 - acc: 0.9997 - val_loss: 0.0177 - val_acc: 0.9918\n",
            "Epoch 5/5\n",
            "45127/45127 [==============================] - 11s 251us/step - loss: 7.4319e-04 - acc: 0.9998 - val_loss: 0.0189 - val_acc: 0.9912\n"
          ],
          "name": "stdout"
        }
      ]
    },
    {
      "metadata": {
        "id": "UBx6Tyrlz8kJ",
        "colab_type": "code",
        "colab": {
          "base_uri": "https://localhost:8080/",
          "height": 51
        },
        "outputId": "209c93e7-ca69-49df-b044-f7195bc7ced3"
      },
      "cell_type": "code",
      "source": [
        "model_conv.evaluate(X_test, y_test)"
      ],
      "execution_count": 79,
      "outputs": [
        {
          "output_type": "stream",
          "text": [
            "22227/22227 [==============================] - 2s 77us/step\n"
          ],
          "name": "stdout"
        },
        {
          "output_type": "execute_result",
          "data": {
            "text/plain": [
              "[0.018868079593255947, 0.9912268862194629]"
            ]
          },
          "metadata": {
            "tags": []
          },
          "execution_count": 79
        }
      ]
    },
    {
      "metadata": {
        "id": "WCzHuCIyQ-m-",
        "colab_type": "code",
        "colab": {}
      },
      "cell_type": "code",
      "source": [
        "from sklearn.metrics import confusion_matrix\n",
        "y_pconv = model_conv.predict(X_test).ravel()\n",
        "y_pconv2 = (y_pconv > 0.5)"
      ],
      "execution_count": 0,
      "outputs": []
    },
    {
      "metadata": {
        "id": "SA4H70AQRIwu",
        "colab_type": "code",
        "colab": {
          "base_uri": "https://localhost:8080/",
          "height": 142
        },
        "outputId": "3892081c-f04c-4f0b-d6e2-187bfc5b7b5e"
      },
      "cell_type": "code",
      "source": [
        "pd.crosstab(y_test, y_pconv2, rownames=['Actual'], colnames=['Predicted'])"
      ],
      "execution_count": 93,
      "outputs": [
        {
          "output_type": "execute_result",
          "data": {
            "text/html": [
              "<div>\n",
              "<style scoped>\n",
              "    .dataframe tbody tr th:only-of-type {\n",
              "        vertical-align: middle;\n",
              "    }\n",
              "\n",
              "    .dataframe tbody tr th {\n",
              "        vertical-align: top;\n",
              "    }\n",
              "\n",
              "    .dataframe thead th {\n",
              "        text-align: right;\n",
              "    }\n",
              "</style>\n",
              "<table border=\"1\" class=\"dataframe\">\n",
              "  <thead>\n",
              "    <tr style=\"text-align: right;\">\n",
              "      <th>Predicted</th>\n",
              "      <th>False</th>\n",
              "      <th>True</th>\n",
              "    </tr>\n",
              "    <tr>\n",
              "      <th>Actual</th>\n",
              "      <th></th>\n",
              "      <th></th>\n",
              "    </tr>\n",
              "  </thead>\n",
              "  <tbody>\n",
              "    <tr>\n",
              "      <th>0</th>\n",
              "      <td>315</td>\n",
              "      <td>116</td>\n",
              "    </tr>\n",
              "    <tr>\n",
              "      <th>1</th>\n",
              "      <td>79</td>\n",
              "      <td>21717</td>\n",
              "    </tr>\n",
              "  </tbody>\n",
              "</table>\n",
              "</div>"
            ],
            "text/plain": [
              "Predicted  False  True \n",
              "Actual                 \n",
              "0            315    116\n",
              "1             79  21717"
            ]
          },
          "metadata": {
            "tags": []
          },
          "execution_count": 93
        }
      ]
    },
    {
      "metadata": {
        "id": "2hLErdSQuQYI",
        "colab_type": "code",
        "outputId": "be78faee-146a-4e58-f272-fe8bbd173059",
        "colab": {
          "base_uri": "https://localhost:8080/",
          "height": 364
        }
      },
      "cell_type": "code",
      "source": [
        "plt.plot(history.history[\"loss\"])\n",
        "plt.plot(history.history[\"val_loss\"])"
      ],
      "execution_count": 82,
      "outputs": [
        {
          "output_type": "execute_result",
          "data": {
            "text/plain": [
              "[<matplotlib.lines.Line2D at 0x7f952f331630>]"
            ]
          },
          "metadata": {
            "tags": []
          },
          "execution_count": 82
        },
        {
          "output_type": "display_data",
          "data": {
            "image/png": "[encoded data removed]",
            "text/plain": [
              "<matplotlib.figure.Figure at 0x7f952f3314a8>"
            ]
          },
          "metadata": {
            "tags": []
          }
        }
      ]
    },
    {
      "metadata": {
        "id": "evSdtRdyM8wH",
        "colab_type": "text"
      },
      "cell_type": "markdown",
      "source": [
        "### 3.3"
      ]
    },
    {
      "metadata": {
        "id": "faZDnF-MFAqE",
        "colab_type": "code",
        "colab": {}
      },
      "cell_type": "code",
      "source": [
        "from sklearn.metrics import roc_curve\n",
        "from sklearn.metrics import auc\n",
        "f_pcnn, t_pcnn, thresholds = roc_curve(y_test, y_pconv2)\n",
        "auc_pred_cnn = auc(f_pcnn, t_pcnn)\n",
        "f_predicted, t_predicted, thresholds = roc_curve(y_test, y_pred)\n",
        "auc_pred = auc(f_predicted, t_predicted)"
      ],
      "execution_count": 0,
      "outputs": []
    },
    {
      "metadata": {
        "id": "uuRLyaX5NKWC",
        "colab_type": "code",
        "colab": {
          "base_uri": "https://localhost:8080/",
          "height": 51
        },
        "outputId": "d4b38ce0-a750-445a-ecae-df3a5add4289"
      },
      "cell_type": "code",
      "source": [
        "print(auc_pred_cnn)\n",
        "print(auc_pred)"
      ],
      "execution_count": 95,
      "outputs": [
        {
          "output_type": "stream",
          "text": [
            "0.8636169752086315\n",
            "0.9967407119124861\n"
          ],
          "name": "stdout"
        }
      ]
    },
    {
      "metadata": {
        "id": "6lYFqGMHFDTX",
        "colab_type": "code",
        "colab": {
          "base_uri": "https://localhost:8080/",
          "height": 376
        },
        "outputId": "40058595-4ec9-4c06-9bb5-f541021d503b"
      },
      "cell_type": "code",
      "source": [
        "plt.figure(1)\n",
        "plt.plot(f_pcnn, t_pcnn, label='CNN'.format(auc_pred_cnn))\n",
        "plt.plot(f_predicted, t_predicted, label='RNN'.format(auc_pred))\n",
        "plt.xlabel('False positive rate')\n",
        "plt.ylabel('True positive rate')\n",
        "plt.title('ROC curve')\n",
        "plt.legend(loc='best')\n",
        "plt.show()"
      ],
      "execution_count": 85,
      "outputs": [
        {
          "output_type": "display_data",
          "data": {
            "image/png": "[encoded data removed]",
            "text/plain": [
              "<matplotlib.figure.Figure at 0x7f952edf6160>"
            ]
          },
          "metadata": {
            "tags": []
          }
        }
      ]
    },
    {
      "metadata": {
        "id": "yCplzk2WfcUI",
        "colab_type": "text"
      },
      "cell_type": "markdown",
      "source": [
        "From the ROC curves, we can see the RNN model performed better than the CNN model. The RNN had an accuracy rate of 99% which gave almost a perfect ROC curve. However, the CNN model did worse with an area under the curve of ~86%. The RNN result also gave a better false negative rate of 7% which means that only 7% malicious urls were mistakenly identified as benign. The CNN had a higher false negative rate of 27%, making this model not as good even though the accuracy rate was high of 99%."
      ]
    }
  ]
}